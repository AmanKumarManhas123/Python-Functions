{
  "nbformat": 4,
  "nbformat_minor": 0,
  "metadata": {
    "colab": {
      "provenance": []
    },
    "kernelspec": {
      "name": "python3",
      "display_name": "Python 3"
    },
    "language_info": {
      "name": "python"
    }
  },
  "cells": [
    {
      "cell_type": "markdown",
      "source": [
        "# Functions Python Assignment\n",
        "- Name - Aman Kumar Manhas\n"
      ],
      "metadata": {
        "id": "X2KtJpnX2rVQ"
      }
    },
    {
      "cell_type": "markdown",
      "source": [
        "1. What is the difference between a function and a method in Python?\n",
        " - Definition => Function -  A function is a reusable block of code that performs a specific task where as the method is also a function, but it is connected to an object.\n",
        "\n",
        " - Association => Function is  not related to any object. We can use it directly where as Method always used with an object like a string, list, or a class object.\n",
        "\n",
        " - How They Are Called => Function are called like this => function_name(). Example: len([1, 2, 3]) whereas Method are called like this => object.method_name(). Example: \"abc\".upper()\n",
        "\n",
        " -  Where They Are Defined =>  Function are defined using def outside of a class. Example => def greet(): print(\"Hi\") whereas Method are defined inside a class (or built-in object). Example: class A: def say_hello(self): print(\"Hello\")\n",
        "\n",
        " -  Usage => Function used for general tasks or calculations. Example: sum([1, 2, 3]) where as Method used to modify or interact with the object it's tied to.\n",
        " Example: \"hello\".replace(\"h\", \"y\")\n",
        "\n",
        " - Built-in Example => Function: max([1, 2, 3]) → Finds the maximum. where as\n",
        " Method: \"hello\".upper() → Converts to uppercase.\n",
        "\n",
        " - Example: Function that adds two numbers\n",
        "    def add_numbers(a, b):\n",
        "        return a + b\n",
        "\n",
        "    => Calling the function\n",
        "    result = add_numbers(10, 5)\n",
        "    print(\"Function result:\", result)\n",
        "  \n",
        "  - Example: Method example with a string object\n",
        "    text = \"hello world\"\n",
        "\n",
        "    => Calling a method on the string object\n",
        "    upper_text = text.upper()\n",
        "    print(\"Method result:\", upper_text)\n",
        "\n",
        "\n",
        "\n",
        "2. Explain the concept of function arguments and parameters in Python.\n",
        " -  Parameters: Variables listed inside the function definition.\n",
        " - They act as placeholders for the values that the function will receive.\n",
        " - We define them when writing the function.\n",
        " - Example: def greet(name): => 'name' is a parameter\n",
        "   print(\"Hello\", name)\n",
        "\n",
        " -  Arguments: The actual values we pass to the function when calling it.\n",
        " - These values are assigned to the parameters. Example:\n",
        "  greet(\"Aman\")  => \"Aman\" is an argument\n",
        "\n",
        " - Example:\n",
        "   def add(a, b):  # a and b are parameters\n",
        "    return a + b\n",
        "   result = add(3, 7)  # 3 and 7 are arguments\n",
        "   print(result)\n",
        "\n",
        "3. What are the different ways to define and call a function in Python?\n",
        " -\n",
        " 1. Using def keyword (Standard Function)\n",
        " - def greet(name):\n",
        "    return \"Hello \" + name\n",
        " - Call:\n",
        "    print(greet(\"Aman\"))\n",
        "\n",
        " 2. Using lambda (Anonymous Function)\n",
        "    add = lambda x, y: x + y\n",
        " - Call:\n",
        "    print(add(5, 3))\n",
        "\n",
        " 3. Using *args (Variable Positional Arguments)\n",
        " - def total(*numbers):\n",
        "    return sum(numbers)\n",
        " - Call:\n",
        "    print(total(1, 2, 3, 4))  # Can take any number of arguments\n",
        "\n",
        " 4. Using **kwargs (Variable Keyword Arguments)\n",
        " - def show_details(**info):\n",
        "    return info\n",
        " - Call:\n",
        "    print(show_details(name=\"Aman\", age=21))\n",
        "\n",
        " 5. Nested Function (Function Inside Another Function)\n",
        " - def outer():\n",
        "    def inner():\n",
        "        return \"Inner Function\"\n",
        "    return inner()\n",
        " - Call:\n",
        "    print(outer())\n",
        "\n",
        " 6. Calling a Method (Function inside a Class)\n",
        " - class Person:\n",
        "    def say_hello(self):\n",
        "        return \"Hello!\"\n",
        " - Call:\n",
        "    p = Person()\n",
        "    print(p.say_hello())\n",
        "\n",
        "\n",
        "4. What is the purpose of the `return` statement in a Python function?\n",
        " - The return statement is used to send back a value from a function to the place where the function was called.\n",
        " - return is used to give output from a function.\n",
        " - It ends the function's execution.\n",
        " - Without return, the function returns None by default.\n",
        " - Exammple =>\n",
        " - def add(a, b):\n",
        "    return a + b  # returns the sum\n",
        "    result = add(3, 5)\n",
        "    print(result)  # Output: 8\n",
        " - Here, return a + b sends back the result 8 to the variable result.\n",
        " - Without return =>\n",
        " - def add(a, b):\n",
        "    print(a + b)  # only prints, doesn't return\n",
        "    x = add(3, 5)\n",
        "    print(x)  # Output: None\n",
        " - x is None because nothing was returned.\n",
        "\n",
        "\n",
        "\n",
        "5. What are iterators in Python and how do they differ from iterables?\n",
        " -  Iterable: An iterable is any object in Python that can be looped over.\n",
        " - It implements the __iter__() method.\n",
        " - Example:\n",
        "    my_list = [1, 2, 3]\n",
        "    for item in my_list:  # my_list is an iterable\n",
        "        print(item)\n",
        " - Examples: list, tuple, string, set, dict\n",
        "\n",
        " - Iterator: An iterator is an object that keeps track of where you are in a sequence.\n",
        " - It uses the __next__() method to get the next value.\n",
        " - It is created from an iterable using iter().\n",
        " - Example:\n",
        "    my_list = [1, 2, 3]\n",
        "    it = iter(my_list)       # it is now an iterator\n",
        "    print(next(it))  # 1\n",
        "    print(next(it))  # 2\n",
        "    print(next(it))  # 3\n",
        "\n",
        "  - key differences =>\n",
        "  1. Definition:\n",
        "  Stores a collection of items\t  Accesses items one at a time\n",
        "  2. Examples:\n",
        "  List, Tuple, String, Set, Dictionary\t |  Object created by iter()\n",
        "  3. Method Required:\n",
        "\tHas __iter__()\t| Has __iter__() and __next__()\n",
        "  4. How It Works:\n",
        "  Can be looped with for loop\t |  Used with next() to get next item\n",
        "  5. Memory of Position:\n",
        "  Does not remember position  | \tRemembers where it left off\n",
        "  6. Reusability:\n",
        "  Can be reused multiple times\t|  Gets exhausted after one full loop\n",
        "  7. Error on End:\n",
        "  Automatically stops in loop \t|  Raises StopIteration when finished\n",
        "\n",
        "\n",
        "6. Explain the concept of generators in Python and how they are defined.\n",
        " - A generator is a special type of function in Python that:\n",
        "   - Generates values one at a time (instead of all at once).\n",
        "   - Uses the yield keyword instead of return.\n",
        "   - Is memory-efficient and lazy evaluated because it doesn’t store all values in memory.\n",
        "\n",
        " - Example:\n",
        "  def count_up_to(n):\n",
        "    i = 1\n",
        "    while i <= n:\n",
        "        yield i\n",
        "        i += 1\n",
        "  gen = count_up_to(3)\n",
        "  print(next(gen))  # Output: 1\n",
        "  print(next(gen))  # Output: 2\n",
        "  print(next(gen))  # Output: 3\n",
        "  - next(gen) now would raise StopIteration\n",
        "\n",
        "\n",
        "7. What are the advantages of using generators over regular functions?\n",
        " - Advantages of Generators:\n",
        " 1. Memory Efficient:\n",
        " - Generators do not store all values in memory.\n",
        " - They generate values one at a time, only when needed.\n",
        " - Example: Reading a huge file line by line.\n",
        "\n",
        "  2. Faster for Large Data:\n",
        "  - Since data is not loaded all at once, it is faster for big tasks.\n",
        "\n",
        "  3. Lazy Evaluation:\n",
        "  - Values are produced only when requested using next().\n",
        "  - This avoids unnecessary calculations.\n",
        "\n",
        "  4. Infinite Sequences:\n",
        "  - Generators can generate infinite data (like Fibonacci series) without crashing our program.\n",
        "\n",
        "  5. Simple Syntax:\n",
        " - Using yield makes your code cleaner and easier to write than using lists with append().\n",
        "\n",
        " 6. Pause and Resume:\n",
        " - Unlike regular functions, generators can pause at yield and resume from the same place.\n",
        "\n",
        " => Generator vs Regular Function Example:\n",
        " => Regular function\n",
        " def squares_list(n):\n",
        "    return [x**2 for x in range(n)]\n",
        "\n",
        " => Generator\n",
        " def squares_gen(n):\n",
        "    for x in range(n):\n",
        "        yield x**2\n",
        " - First returns all at once (uses more memory).\n",
        " - Second yields one value at a time (saves memory).\n",
        "\n",
        "\n",
        "8. What is a lambda function in Python and when is it typically used?\n",
        " - A lambda function is a small, anonymous (nameless) function in Python.\n",
        " - It is defined using the keyword lambda instead of def.\n",
        " - It can have any number of arguments, but only one expression.\n",
        "\n",
        " - Syntax: lambda arguments: expression\n",
        " - Example: add = lambda a, b: a + b\n",
        "            print(add(3, 5))  # Output: 8\n",
        "\n",
        " - When is a Lambda Function Typically Used?\n",
        " - Lambda functions are used when:\n",
        " - We need a simple function for a short time.\n",
        " - We don’t want to give it a name.\n",
        " - We use it inside built-in functions like: map(), filter(), sorted().\n",
        "\n",
        " - Examples:\n",
        "  - With map():\n",
        "    nums = [1, 2, 3]\n",
        "    squares = list(map(lambda x: x**2, nums))\n",
        "    print(squares)  # Output: [1, 4, 9]\n",
        "\n",
        "  - With filter():\n",
        "    nums = [1, 2, 3, 4]\n",
        "    even = list(filter(lambda x: x % 2 == 0, nums))\n",
        "    print(even)  # Output: [2, 4]\n",
        "\n",
        "  - With sorted() (custom sort):\n",
        "    pairs = [(1, 3), (2, 1), (4, 2)]\n",
        "    sorted_pairs = sorted(pairs, key=lambda x: x[1])\n",
        "    print(sorted_pairs)  # Output: [(2, 1), (4, 2), (1, 3)]\n",
        "\n",
        "\n",
        "9. Explain the purpose and usage of the `map()` function in Python.\n",
        " - map() is a built-in function used to apply a function to every item in an iterable (like a list, tuple, etc.).\n",
        " - It returns a map object, which can be converted to a list, tuple, etc.\n",
        " - Syntax: map(function, iterable)\n",
        "\n",
        " - Purpose:\n",
        " - To avoid writing loops for applying a function to each element.\n",
        " - Helps make code shorter and cleaner.\n",
        "\n",
        " - Example 1: Square all numbers in a list\n",
        " numbers = [1, 2, 3, 4]\n",
        " squares = list(map(lambda x: x**2, numbers))\n",
        " print(squares)  # Output: [1, 4, 9, 16]\n",
        "\n",
        " - Example 2: Convert all strings to uppercase\n",
        " words = ['hello', 'world']\n",
        " upper_words = list(map(str.upper, words))\n",
        " print(upper_words)  # Output: ['HELLO', 'WORLD']\n",
        "\n",
        "10. What is the difference between `map()`, `reduce()`, and `filter()`         functions in Python?\n",
        "  1. map()\n",
        "  - Purpose: Applies a function to every item in an iterable.\n",
        "  - Returns: A new iterable with the transformed items.\n",
        "  - Example:\n",
        "  nums = [1, 2, 3]\n",
        "  result = list(map(lambda x: x * 2, nums))\n",
        "  Output: [2, 4, 6]\n",
        "  2. filter()\n",
        "  - Purpose: Filters the iterable based on a condition (returns only items where the function returns True).\n",
        "  - Returns: A new iterable with the filtered items.\n",
        "  - Example:\n",
        "  nums = [1, 2, 3, 4]\n",
        "  result = list(filter(lambda x: x % 2 == 0, nums))\n",
        "  Output: [2, 4]\n",
        "  3. reduce() (from functools module)\n",
        "  - Purpose: Applies a function to the iterable to reduce it to a single value (like sum or product).\n",
        "  - Returns: A single result.\n",
        "  - Example:\n",
        "  from functools import reduce\n",
        "  nums = [1, 2, 3, 4]\n",
        "  result = reduce(lambda x, y: x + y, nums)\n",
        "  Output: 10\n",
        "\n",
        "  - Key Difference:\n",
        "  1. Function of:\n",
        "  - map()\t:  Transformation           \n",
        "  - filter()  :  Selection/Condition        \n",
        "  - reduce()  :  Check\tAggregation\n",
        "                \n",
        "  2. Return Type:\n",
        "  - New iterable(map object)\n",
        "  - New iterable(filter object)\n",
        "  - Single value\n",
        "  3. Needs import?\t  \n",
        "  - No\t               \n",
        "  - No\t       \n",
        "  - Yes (from functools import reduce)\n",
        "  4. Example Use:\n",
        "  - Square numbers, upper-case\n",
        "  - Filter even numbers\n",
        "  - Add or multiply all items\n",
        "11. Using pen & Paper write the internal mechanism for sum operation using  reduce function on this given  list:[47,11,42,13];\n",
        "(Attach paper image for this answer) in doc or colab notebook.\n",
        "\n",
        "- ![Screenshot (300).png](data:image/png;base64,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)"
      ],
      "metadata": {
        "id": "Pb0As57S28x9"
      }
    },
    {
      "cell_type": "markdown",
      "source": [
        "1. Write a Python function that takes a list of numbers as input and returns the sum of all even numbers in the list."
      ],
      "metadata": {
        "id": "ynG7Rtp4OhhD"
      }
    },
    {
      "cell_type": "code",
      "source": [
        "def sum_even_numbers(numbers):\n",
        "    even_sum = 0\n",
        "    for num in numbers:\n",
        "        if num % 2 == 0:\n",
        "            even_sum += num\n",
        "    return even_sum"
      ],
      "metadata": {
        "id": "Quy6sHUnOZjW"
      },
      "execution_count": 5,
      "outputs": []
    },
    {
      "cell_type": "code",
      "source": [
        "list1 = [1,2,3,4,5,6,7,8,9,10]\n",
        "print(sum_even_numbers(list1))"
      ],
      "metadata": {
        "colab": {
          "base_uri": "https://localhost:8080/"
        },
        "id": "w4e8SwGPw4Kf",
        "outputId": "1694e0f1-c86c-4b37-85f6-d8ff7f907ae0"
      },
      "execution_count": 6,
      "outputs": [
        {
          "output_type": "stream",
          "name": "stdout",
          "text": [
            "30\n"
          ]
        }
      ]
    },
    {
      "cell_type": "markdown",
      "source": [
        " 2. Create a Python function that accepts a string and returns the reverse of that string."
      ],
      "metadata": {
        "id": "r-sEONl8Oj8P"
      }
    },
    {
      "cell_type": "code",
      "source": [
        "def reverse_of_string(str):\n",
        "   return str[::-1]"
      ],
      "metadata": {
        "id": "P9JsLx5uOscc"
      },
      "execution_count": 7,
      "outputs": []
    },
    {
      "cell_type": "code",
      "source": [
        "user_input = input(\"enter the string:\")\n",
        "print(reverse_of_string(user_input))"
      ],
      "metadata": {
        "colab": {
          "base_uri": "https://localhost:8080/"
        },
        "id": "geh-Ma4gxLBL",
        "outputId": "4c5aa08f-9f06-4d58-db3f-653ee677884f"
      },
      "execution_count": 8,
      "outputs": [
        {
          "output_type": "stream",
          "name": "stdout",
          "text": [
            "enter the string:Aman Vishal\n",
            "lahsiV namA\n"
          ]
        }
      ]
    },
    {
      "cell_type": "markdown",
      "source": [
        " 3. Implement a Python function that takes a list of integers and returns a new list containing the squares of each number."
      ],
      "metadata": {
        "id": "DB52eKjqOtKs"
      }
    },
    {
      "cell_type": "code",
      "source": [
        "def sq_of_list(list2):\n",
        "  return [i**2 for i in list2]"
      ],
      "metadata": {
        "id": "tXUvYB7_Ou33"
      },
      "execution_count": 9,
      "outputs": []
    },
    {
      "cell_type": "code",
      "source": [
        "list2 = [1,2,3,4,5]\n",
        "print(sq_of_list(list2))"
      ],
      "metadata": {
        "colab": {
          "base_uri": "https://localhost:8080/"
        },
        "id": "wG4ICRm-0h8U",
        "outputId": "41d6964e-b071-40b9-bb46-fefff27d70f7"
      },
      "execution_count": 10,
      "outputs": [
        {
          "output_type": "stream",
          "name": "stdout",
          "text": [
            "[1, 4, 9, 16, 25]\n"
          ]
        }
      ]
    },
    {
      "cell_type": "markdown",
      "source": [
        " 4. Write a Python function that checks if a given number is prime or not from 1 to 200."
      ],
      "metadata": {
        "id": "PDjd5aUGOvV8"
      }
    },
    {
      "cell_type": "code",
      "source": [
        "def prime_or_not(num):\n",
        "    if num < 2:\n",
        "        return False\n",
        "    for i in range(2, int(num**0.5) + 1):\n",
        "        if num % i == 0:\n",
        "            return False\n",
        "    return True"
      ],
      "metadata": {
        "id": "zGl8vBgR2quY"
      },
      "execution_count": 11,
      "outputs": []
    },
    {
      "cell_type": "code",
      "source": [
        "prime_or_not(5)"
      ],
      "metadata": {
        "colab": {
          "base_uri": "https://localhost:8080/"
        },
        "id": "ktMeypKU2-ko",
        "outputId": "85d689de-2905-4d5b-e66d-5a29fd97cd8d"
      },
      "execution_count": 12,
      "outputs": [
        {
          "output_type": "execute_result",
          "data": {
            "text/plain": [
              "True"
            ]
          },
          "metadata": {},
          "execution_count": 12
        }
      ]
    },
    {
      "cell_type": "markdown",
      "source": [
        " 5. Create an iterator class in Python that generates the Fibonacci sequence up to a specified number of terms."
      ],
      "metadata": {
        "id": "ClTIPN45O2je"
      }
    },
    {
      "cell_type": "code",
      "source": [
        "class Fibonacci:\n",
        "    def __init__(self, n):\n",
        "        self.n = n        # Total terms to generate\n",
        "        self.a = 0        # First number in Fibonacci\n",
        "        self.b = 1        # Second number in Fibonacci\n",
        "        self.count = 0    # Counter to track how many numbers have been generated\n",
        "\n",
        "    def __iter__(self):\n",
        "        return self       # An iterator must return itself\n",
        "\n",
        "    def __next__(self):\n",
        "        if self.count >= self.n:\n",
        "            raise StopIteration   # Stop when n terms are reached\n",
        "\n",
        "        if self.count == 0:\n",
        "            self.count += 1\n",
        "            return self.a\n",
        "        elif self.count == 1:\n",
        "            self.count += 1\n",
        "            return self.b\n",
        "        else:\n",
        "            fib = self.a + self.b\n",
        "            self.a = self.b\n",
        "            self.b = fib\n",
        "            self.count += 1\n",
        "            return fib"
      ],
      "metadata": {
        "id": "c3EgICL9O4MT"
      },
      "execution_count": 13,
      "outputs": []
    },
    {
      "cell_type": "code",
      "source": [
        "f = Fibonacci(5)   # Generate first 10 Fibonacci numbers\n",
        "for num in f:\n",
        "    print(num)"
      ],
      "metadata": {
        "colab": {
          "base_uri": "https://localhost:8080/"
        },
        "id": "ig-omh-uy7oY",
        "outputId": "eff1d8e9-e4c5-4f74-efbb-b0978b3c2f2f"
      },
      "execution_count": 14,
      "outputs": [
        {
          "output_type": "stream",
          "name": "stdout",
          "text": [
            "0\n",
            "1\n",
            "1\n",
            "2\n",
            "3\n"
          ]
        }
      ]
    },
    {
      "cell_type": "markdown",
      "source": [
        " 6. Write a generator function in Python that yields the powers of 2 up to a given exponent."
      ],
      "metadata": {
        "id": "2fDpfBF1O4ib"
      }
    },
    {
      "cell_type": "code",
      "source": [
        "def powers_of_two(max_exponent):\n",
        "    for exponent in range(max_exponent + 1):\n",
        "        yield 2 ** exponent"
      ],
      "metadata": {
        "id": "VCMbUr0ZO-5y"
      },
      "execution_count": 15,
      "outputs": []
    },
    {
      "cell_type": "code",
      "source": [
        "for power in powers_of_two(5):\n",
        "    print(power)"
      ],
      "metadata": {
        "colab": {
          "base_uri": "https://localhost:8080/"
        },
        "id": "RCXAn16T2dLX",
        "outputId": "6af173bb-5f8a-4a7c-c6e5-b75dbe99e674"
      },
      "execution_count": 16,
      "outputs": [
        {
          "output_type": "stream",
          "name": "stdout",
          "text": [
            "1\n",
            "2\n",
            "4\n",
            "8\n",
            "16\n",
            "32\n"
          ]
        }
      ]
    },
    {
      "cell_type": "code",
      "source": [
        "gen = powers_of_two(5)\n",
        "print(next(gen))\n",
        "print(next(gen))\n",
        "print(next(gen))\n",
        "print(next(gen))"
      ],
      "metadata": {
        "colab": {
          "base_uri": "https://localhost:8080/"
        },
        "id": "m6CuNWQp2mXo",
        "outputId": "dbe2f40f-e400-4223-fca7-f99d9c46f637"
      },
      "execution_count": 17,
      "outputs": [
        {
          "output_type": "stream",
          "name": "stdout",
          "text": [
            "1\n",
            "2\n",
            "4\n",
            "8\n"
          ]
        }
      ]
    },
    {
      "cell_type": "markdown",
      "source": [
        "7. Implement a generator function that reads a file line by line and yields each line as a string."
      ],
      "metadata": {
        "id": "DhBIA9QmO_cn"
      }
    },
    {
      "cell_type": "code",
      "source": [
        "# Step 1: Create a sample file\n",
        "with open('example.txt', 'w') as f:\n",
        "    f.write(\"hello my name is Aman Kumar Manhas\\n\")\n",
        "    f.write(\"and i am from himachal pradesh\\n\")\n",
        "    f.write(\"and i am 24 years old\\n\")\n",
        "\n",
        "# Step 2: Define the generator function\n",
        "def read_file_line_by_line(filename):\n",
        "    for line in open(filename):\n",
        "        yield line.strip()  # yields one line at a time without the newline\n",
        "\n",
        "# Step 3: Use the generator to read and print each line\n",
        "for line in read_file_line_by_line('example.txt'):\n",
        "    print(line)\n"
      ],
      "metadata": {
        "id": "ecJLRqVfPBNS",
        "colab": {
          "base_uri": "https://localhost:8080/"
        },
        "outputId": "0cb04f4f-a35f-48d7-daa4-7de100877b64"
      },
      "execution_count": 18,
      "outputs": [
        {
          "output_type": "stream",
          "name": "stdout",
          "text": [
            "hello my name is Aman Kumar Manhas\n",
            "and i am from himachal pradesh\n",
            "and i am 24 years old\n"
          ]
        }
      ]
    },
    {
      "cell_type": "markdown",
      "source": [
        "8. Use a lambda function in Python to sort a list of tuples based on the second element of each tuple."
      ],
      "metadata": {
        "id": "cX6K9C1LPBrw"
      }
    },
    {
      "cell_type": "code",
      "source": [
        "data = [(1, 5), (3, 1), (4, 7), (2, 3)]\n",
        "sorted_data = sorted(data, key=lambda x: x[1])\n",
        "print(sorted_data)"
      ],
      "metadata": {
        "id": "WI4DHO0YPEVH",
        "colab": {
          "base_uri": "https://localhost:8080/"
        },
        "outputId": "1b8398c5-95e2-4c09-9f92-35fac5dcb55a"
      },
      "execution_count": 19,
      "outputs": [
        {
          "output_type": "stream",
          "name": "stdout",
          "text": [
            "[(3, 1), (2, 3), (1, 5), (4, 7)]\n"
          ]
        }
      ]
    },
    {
      "cell_type": "markdown",
      "source": [
        " 9. Write a Python program that uses `map()` to convert a list of temperatures from Celsius to Fahrenheit."
      ],
      "metadata": {
        "id": "V_XXI17YPE2G"
      }
    },
    {
      "cell_type": "code",
      "source": [
        "temperatures = [15,23,25,30,35,32]\n",
        "conversion = list(map(lambda x: (x * 9/5) + 32,temperatures))\n",
        "print(conversion)"
      ],
      "metadata": {
        "id": "xypJWV5SPIDf",
        "colab": {
          "base_uri": "https://localhost:8080/"
        },
        "outputId": "90e53037-dd6c-4b5b-a667-90a3b549d6be"
      },
      "execution_count": 20,
      "outputs": [
        {
          "output_type": "stream",
          "name": "stdout",
          "text": [
            "[59.0, 73.4, 77.0, 86.0, 95.0, 89.6]\n"
          ]
        }
      ]
    },
    {
      "cell_type": "markdown",
      "source": [
        "10. Create a Python program that uses `filter()` to remove all the vowels from a given string."
      ],
      "metadata": {
        "id": "o05a_CzLPIU5"
      }
    },
    {
      "cell_type": "code",
      "source": [
        "text = \"Hi, my name is Aman Kumar Manhas\"\n",
        "vowels = \"aeiouAEIOU\"\n",
        "no_vowels = ''.join(filter(lambda x: x not in vowels, text))\n",
        "print(\"Original string:\", text)\n",
        "print(\"String without vowels:\", no_vowels)"
      ],
      "metadata": {
        "id": "vFr2gWI1PNJX",
        "colab": {
          "base_uri": "https://localhost:8080/"
        },
        "outputId": "743b1b32-851b-4ef4-c943-748db064065f"
      },
      "execution_count": 21,
      "outputs": [
        {
          "output_type": "stream",
          "name": "stdout",
          "text": [
            "Original string: Hi, my name is Aman Kumar Manhas\n",
            "String without vowels: H, my nm s mn Kmr Mnhs\n"
          ]
        }
      ]
    },
    {
      "cell_type": "markdown",
      "source": [
        "11. Imagine an accounting routine used in a book shop. It works on a list with sublists, which look like this:![Screenshot (298).png](data:image/png;base64,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)"
      ],
      "metadata": {
        "id": "NdgxRubhQkCL"
      }
    },
    {
      "cell_type": "markdown",
      "source": [
        "- Write a Python program, which returns a list with 2-tuples. Each tuple consists of the order number and the\n",
        "product of the price per item and the quantity. The product should be increased by 10,- € if the value of the\n",
        "order is smaller than 100,00 €.\n",
        "- Write a Python program using lambda and map."
      ],
      "metadata": {
        "id": "rZYsHh7ORetE"
      }
    },
    {
      "cell_type": "code",
      "source": [
        "orders = [\n",
        "    [34587, \"Learning Python, Mark Lutz\", 4, 40.95],\n",
        "    [98762, \"Programming Python, Mark Lutz\", 5, 56.80],\n",
        "    [77226, \"Head First Python, Paul Barry\", 3, 32.95],\n",
        "    [88112, \"Einführung in Python3, Bernd Klein\", 3, 24.99]\n",
        "]\n",
        "result = list(map(lambda x: (x[0], x[2] * x[3] + 10 if x[2] * x[3] < 100 else x[2] * x[3]),orders))\n",
        "print(result)"
      ],
      "metadata": {
        "id": "45N3TnjARm-4",
        "colab": {
          "base_uri": "https://localhost:8080/"
        },
        "outputId": "e0a0b2e5-4ee2-45c4-9e16-276998ced3d3"
      },
      "execution_count": 22,
      "outputs": [
        {
          "output_type": "stream",
          "name": "stdout",
          "text": [
            "[(34587, 163.8), (98762, 284.0), (77226, 108.85000000000001), (88112, 84.97)]\n"
          ]
        }
      ]
    }
  ]
}